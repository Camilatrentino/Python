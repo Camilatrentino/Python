{
  "nbformat": 4,
  "nbformat_minor": 0,
  "metadata": {
    "colab": {
      "provenance": [],
      "authorship_tag": "ABX9TyPwK2DdSzppsWk2r4vVzBfK",
      "include_colab_link": true
    },
    "kernelspec": {
      "name": "python3",
      "display_name": "Python 3"
    },
    "language_info": {
      "name": "python"
    }
  },
  "cells": [
    {
      "cell_type": "markdown",
      "metadata": {
        "id": "view-in-github",
        "colab_type": "text"
      },
      "source": [
        "<a href=\"https://colab.research.google.com/github/Camilatrentino/Python/blob/main/exercicio%2016.ipynb\" target=\"_parent\"><img src=\"https://colab.research.google.com/assets/colab-badge.svg\" alt=\"Open In Colab\"/></a>"
      ]
    },
    {
      "cell_type": "markdown",
      "source": [
        "1) Crie um uma função, que recebe 3 parâmetros e tenha um retorno em python. Ela deve\n",
        "calcular o quanto o usuário irá gastar de gasolina. Para isso o usuário deverá informar:\n",
        "- Quantos KM irá viajar\n",
        "- Quantos KM o carro consome por litro de gasolina\n",
        "- Qual o Preço da Gasolina\n",
        "\n",
        "Para teste de mesa: Ao Final retorne o Valor gasto. Exemplo: Irei viajar 500km, meu carro\n",
        "consome 9km por litro, a gasolina custa R$ 4,00. Irei gastar: R$ 222,22.\n",
        "O Retorno da Função seria R$ 222,22"
      ],
      "metadata": {
        "id": "DYLt1czyawaF"
      }
    },
    {
      "cell_type": "code",
      "source": [
        "def gaso(km, kmpc, pg):\n",
        "  total = (km/kmpc)*pg\n",
        "  return total"
      ],
      "metadata": {
        "id": "WWZWX1UAeIxx"
      },
      "execution_count": null,
      "outputs": []
    },
    {
      "cell_type": "code",
      "source": [
        "gaso(500, 9, 4)"
      ],
      "metadata": {
        "colab": {
          "base_uri": "https://localhost:8080/"
        },
        "id": "WxHRqFUbeL8m",
        "outputId": "d114d320-27d8-4cf1-d0d2-ff432cc51455"
      },
      "execution_count": null,
      "outputs": [
        {
          "output_type": "execute_result",
          "data": {
            "text/plain": [
              "222.22222222222223"
            ]
          },
          "metadata": {},
          "execution_count": 115
        }
      ]
    },
    {
      "cell_type": "markdown",
      "source": [
        "2) Crie uma função que receba como parâmetro um texto qualquer, dentro dessa função\n",
        "deverá ter um laço de repetição que percorra cada letra do texto e retorne a quantidade de\n",
        "vogais encontradas nesse texto.\n",
        "Dentro da função deverá conter:\n",
        "\n",
        "Uma string assim:\n",
        "\n",
        "vogaisstring = aeiouAEIOU\n",
        "\n",
        "ou uma lista assim:\n",
        "\n",
        "vogaislista = ['a','e', 'i', 'o', 'u', 'A', 'E', 'I', 'O', 'U']\n",
        "\n",
        "Para ir testando o algoritmo crie primeiro uma função que vá imprimindo aos poucos e\n",
        "somando aos poucos as vogais encontradas, assim com um texto pequeno você saberá se\n",
        "está funcionando, já que essa função poderá receber textos grandes posteriormente.\n"
      ],
      "metadata": {
        "id": "-9CrGlafeTj_"
      }
    },
    {
      "cell_type": "code",
      "source": [
        " texto = '''A importância da leitura na educação infantil é muito grande, pois ela tem a capacidade de formar cidadãos ativos na organização de uma sociedade mais consciente e crítica. Por isso, desenvolver o hábito da leitura desde a infância é fundamental, e a influência de pais e educadores nesse estágio é imprescindível.'''\n",
        " def vogal(texto):\n",
        "  vogais = \"aeiouAEIOU\"\n",
        "  qntv = 0\n",
        "  for letra in texto:\n",
        "    if letra in vogais:\n",
        "      qntv += 1\n",
        "  return qntv"
      ],
      "metadata": {
        "id": "Ff5clvNZeXne"
      },
      "execution_count": null,
      "outputs": []
    },
    {
      "cell_type": "code",
      "source": [
        "vogal(texto)"
      ],
      "metadata": {
        "colab": {
          "base_uri": "https://localhost:8080/"
        },
        "id": "ScKgh_vZvMHD",
        "outputId": "cdb611ea-9260-49fd-81e5-7e00e04fc600"
      },
      "execution_count": null,
      "outputs": [
        {
          "output_type": "execute_result",
          "data": {
            "text/plain": [
              "115"
            ]
          },
          "metadata": {},
          "execution_count": 118
        }
      ]
    },
    {
      "cell_type": "markdown",
      "source": [
        "Sabendo disso, agora eu quero que você crie uma função em Python que receba um texto\n",
        "como Parâmetro analise quantos artigos, preposições pronomes tem em um texto qualquer.\n",
        "Traga mais de um retorno:\n",
        "\n",
        " Primeiro uma lista de artigos e em seguida sua quantidade\n",
        "\n",
        " Depois a lista de preposições e sua quantidade\n",
        "\n",
        " Depois a lista de Pronomes (todo os tipos) e em seguida sua quantidade.\n"
      ],
      "metadata": {
        "id": "PzJl0v9tjjC6"
      }
    },
    {
      "cell_type": "code",
      "source": [
        "!python -m spacy download pt_core_news_sm"
      ],
      "metadata": {
        "colab": {
          "base_uri": "https://localhost:8080/"
        },
        "id": "zlnJulvIlKAC",
        "outputId": "f81a52c8-0598-42ca-b0f4-ed63b6267342"
      },
      "execution_count": null,
      "outputs": [
        {
          "output_type": "stream",
          "name": "stdout",
          "text": [
            "2023-11-23 15:20:36.966891: E tensorflow/compiler/xla/stream_executor/cuda/cuda_dnn.cc:9342] Unable to register cuDNN factory: Attempting to register factory for plugin cuDNN when one has already been registered\n",
            "2023-11-23 15:20:36.966961: E tensorflow/compiler/xla/stream_executor/cuda/cuda_fft.cc:609] Unable to register cuFFT factory: Attempting to register factory for plugin cuFFT when one has already been registered\n",
            "2023-11-23 15:20:36.967007: E tensorflow/compiler/xla/stream_executor/cuda/cuda_blas.cc:1518] Unable to register cuBLAS factory: Attempting to register factory for plugin cuBLAS when one has already been registered\n",
            "2023-11-23 15:20:36.980983: I tensorflow/core/platform/cpu_feature_guard.cc:182] This TensorFlow binary is optimized to use available CPU instructions in performance-critical operations.\n",
            "To enable the following instructions: AVX2 FMA, in other operations, rebuild TensorFlow with the appropriate compiler flags.\n",
            "2023-11-23 15:20:38.259851: W tensorflow/compiler/tf2tensorrt/utils/py_utils.cc:38] TF-TRT Warning: Could not find TensorRT\n",
            "Collecting pt-core-news-sm==3.6.0\n",
            "  Downloading https://github.com/explosion/spacy-models/releases/download/pt_core_news_sm-3.6.0/pt_core_news_sm-3.6.0-py3-none-any.whl (13.0 MB)\n",
            "\u001b[2K     \u001b[90m━━━━━━━━━━━━━━━━━━━━━━━━━━━━━━━━━━━━━━━━\u001b[0m \u001b[32m13.0/13.0 MB\u001b[0m \u001b[31m84.5 MB/s\u001b[0m eta \u001b[36m0:00:00\u001b[0m\n",
            "\u001b[?25hRequirement already satisfied: spacy<3.7.0,>=3.6.0 in /usr/local/lib/python3.10/dist-packages (from pt-core-news-sm==3.6.0) (3.6.1)\n",
            "Requirement already satisfied: spacy-legacy<3.1.0,>=3.0.11 in /usr/local/lib/python3.10/dist-packages (from spacy<3.7.0,>=3.6.0->pt-core-news-sm==3.6.0) (3.0.12)\n",
            "Requirement already satisfied: spacy-loggers<2.0.0,>=1.0.0 in /usr/local/lib/python3.10/dist-packages (from spacy<3.7.0,>=3.6.0->pt-core-news-sm==3.6.0) (1.0.5)\n",
            "Requirement already satisfied: murmurhash<1.1.0,>=0.28.0 in /usr/local/lib/python3.10/dist-packages (from spacy<3.7.0,>=3.6.0->pt-core-news-sm==3.6.0) (1.0.10)\n",
            "Requirement already satisfied: cymem<2.1.0,>=2.0.2 in /usr/local/lib/python3.10/dist-packages (from spacy<3.7.0,>=3.6.0->pt-core-news-sm==3.6.0) (2.0.8)\n",
            "Requirement already satisfied: preshed<3.1.0,>=3.0.2 in /usr/local/lib/python3.10/dist-packages (from spacy<3.7.0,>=3.6.0->pt-core-news-sm==3.6.0) (3.0.9)\n",
            "Requirement already satisfied: thinc<8.2.0,>=8.1.8 in /usr/local/lib/python3.10/dist-packages (from spacy<3.7.0,>=3.6.0->pt-core-news-sm==3.6.0) (8.1.12)\n",
            "Requirement already satisfied: wasabi<1.2.0,>=0.9.1 in /usr/local/lib/python3.10/dist-packages (from spacy<3.7.0,>=3.6.0->pt-core-news-sm==3.6.0) (1.1.2)\n",
            "Requirement already satisfied: srsly<3.0.0,>=2.4.3 in /usr/local/lib/python3.10/dist-packages (from spacy<3.7.0,>=3.6.0->pt-core-news-sm==3.6.0) (2.4.8)\n",
            "Requirement already satisfied: catalogue<2.1.0,>=2.0.6 in /usr/local/lib/python3.10/dist-packages (from spacy<3.7.0,>=3.6.0->pt-core-news-sm==3.6.0) (2.0.10)\n",
            "Requirement already satisfied: typer<0.10.0,>=0.3.0 in /usr/local/lib/python3.10/dist-packages (from spacy<3.7.0,>=3.6.0->pt-core-news-sm==3.6.0) (0.9.0)\n",
            "Requirement already satisfied: pathy>=0.10.0 in /usr/local/lib/python3.10/dist-packages (from spacy<3.7.0,>=3.6.0->pt-core-news-sm==3.6.0) (0.10.3)\n",
            "Requirement already satisfied: smart-open<7.0.0,>=5.2.1 in /usr/local/lib/python3.10/dist-packages (from spacy<3.7.0,>=3.6.0->pt-core-news-sm==3.6.0) (6.4.0)\n",
            "Requirement already satisfied: tqdm<5.0.0,>=4.38.0 in /usr/local/lib/python3.10/dist-packages (from spacy<3.7.0,>=3.6.0->pt-core-news-sm==3.6.0) (4.66.1)\n",
            "Requirement already satisfied: numpy>=1.15.0 in /usr/local/lib/python3.10/dist-packages (from spacy<3.7.0,>=3.6.0->pt-core-news-sm==3.6.0) (1.23.5)\n",
            "Requirement already satisfied: requests<3.0.0,>=2.13.0 in /usr/local/lib/python3.10/dist-packages (from spacy<3.7.0,>=3.6.0->pt-core-news-sm==3.6.0) (2.31.0)\n",
            "Requirement already satisfied: pydantic!=1.8,!=1.8.1,<3.0.0,>=1.7.4 in /usr/local/lib/python3.10/dist-packages (from spacy<3.7.0,>=3.6.0->pt-core-news-sm==3.6.0) (1.10.13)\n",
            "Requirement already satisfied: jinja2 in /usr/local/lib/python3.10/dist-packages (from spacy<3.7.0,>=3.6.0->pt-core-news-sm==3.6.0) (3.1.2)\n",
            "Requirement already satisfied: setuptools in /usr/local/lib/python3.10/dist-packages (from spacy<3.7.0,>=3.6.0->pt-core-news-sm==3.6.0) (67.7.2)\n",
            "Requirement already satisfied: packaging>=20.0 in /usr/local/lib/python3.10/dist-packages (from spacy<3.7.0,>=3.6.0->pt-core-news-sm==3.6.0) (23.2)\n",
            "Requirement already satisfied: langcodes<4.0.0,>=3.2.0 in /usr/local/lib/python3.10/dist-packages (from spacy<3.7.0,>=3.6.0->pt-core-news-sm==3.6.0) (3.3.0)\n",
            "Requirement already satisfied: typing-extensions>=4.2.0 in /usr/local/lib/python3.10/dist-packages (from pydantic!=1.8,!=1.8.1,<3.0.0,>=1.7.4->spacy<3.7.0,>=3.6.0->pt-core-news-sm==3.6.0) (4.5.0)\n",
            "Requirement already satisfied: charset-normalizer<4,>=2 in /usr/local/lib/python3.10/dist-packages (from requests<3.0.0,>=2.13.0->spacy<3.7.0,>=3.6.0->pt-core-news-sm==3.6.0) (3.3.2)\n",
            "Requirement already satisfied: idna<4,>=2.5 in /usr/local/lib/python3.10/dist-packages (from requests<3.0.0,>=2.13.0->spacy<3.7.0,>=3.6.0->pt-core-news-sm==3.6.0) (3.4)\n",
            "Requirement already satisfied: urllib3<3,>=1.21.1 in /usr/local/lib/python3.10/dist-packages (from requests<3.0.0,>=2.13.0->spacy<3.7.0,>=3.6.0->pt-core-news-sm==3.6.0) (2.0.7)\n",
            "Requirement already satisfied: certifi>=2017.4.17 in /usr/local/lib/python3.10/dist-packages (from requests<3.0.0,>=2.13.0->spacy<3.7.0,>=3.6.0->pt-core-news-sm==3.6.0) (2023.7.22)\n",
            "Requirement already satisfied: blis<0.8.0,>=0.7.8 in /usr/local/lib/python3.10/dist-packages (from thinc<8.2.0,>=8.1.8->spacy<3.7.0,>=3.6.0->pt-core-news-sm==3.6.0) (0.7.11)\n",
            "Requirement already satisfied: confection<1.0.0,>=0.0.1 in /usr/local/lib/python3.10/dist-packages (from thinc<8.2.0,>=8.1.8->spacy<3.7.0,>=3.6.0->pt-core-news-sm==3.6.0) (0.1.3)\n",
            "Requirement already satisfied: click<9.0.0,>=7.1.1 in /usr/local/lib/python3.10/dist-packages (from typer<0.10.0,>=0.3.0->spacy<3.7.0,>=3.6.0->pt-core-news-sm==3.6.0) (8.1.7)\n",
            "Requirement already satisfied: MarkupSafe>=2.0 in /usr/local/lib/python3.10/dist-packages (from jinja2->spacy<3.7.0,>=3.6.0->pt-core-news-sm==3.6.0) (2.1.3)\n",
            "Installing collected packages: pt-core-news-sm\n",
            "Successfully installed pt-core-news-sm-3.6.0\n",
            "\u001b[38;5;2m✔ Download and installation successful\u001b[0m\n",
            "You can now load the package via spacy.load('pt_core_news_sm')\n"
          ]
        }
      ]
    },
    {
      "cell_type": "code",
      "source": [
        "import spacy"
      ],
      "metadata": {
        "id": "ugalankAj2XI"
      },
      "execution_count": null,
      "outputs": []
    },
    {
      "cell_type": "code",
      "source": [
        "nlp = spacy.load(\"pt_core_news_sm\")"
      ],
      "metadata": {
        "id": "vXLRiULKlmeA"
      },
      "execution_count": null,
      "outputs": []
    },
    {
      "cell_type": "code",
      "source": [
        "\n",
        "texto = '''A importância da leitura na educação infantil é muito grande, pois ela tem a capacidade de formar cidadãos ativos na organização de uma sociedade mais consciente e crítica. Por isso, desenvolver o hábito da leitura desde a infância é fundamental, e a influência de pais e educadores nesse estágio é imprescindível.'''\n",
        "\n",
        "doc = nlp(texto)\n",
        "\n",
        "print (\"--------------------------------------------\")\n",
        "print (\"ARTIGOS\")\n",
        "print (\"--------------------------------------------\")\n",
        "\n",
        "for token in doc:\n",
        "  if token.pos_ == \"DET\" :\n",
        "     print (f\"Artigos encontrados: {token.text}\")\n",
        "\n",
        "print (\"--------------------------------------------\")\n",
        "print (\"PREPOSIÇÕES\")\n",
        "print (\"--------------------------------------------\")\n",
        "\n",
        "for token in doc:\n",
        "  if token.pos_ == \"ADP\" :\n",
        "     print (f\"Preposições encontradas: {token.text} \")\n",
        "\n",
        "print (\"--------------------------------------------\")\n",
        "print (\"PRONOMES\")\n",
        "print (\"--------------------------------------------\")\n",
        "\n",
        "for token in doc:\n",
        "  if token.pos_ == \"PRON\" or token.pos_ == \"PRP$\" or token.pos_ == \"PRP\" :\n",
        "    print (f\"Pronomes encontrados: {token.text}\")"
      ],
      "metadata": {
        "colab": {
          "base_uri": "https://localhost:8080/"
        },
        "id": "PVzGNRtmw1MJ",
        "outputId": "09b1ecc8-7e3b-4f38-ebbc-4dee7b70a340"
      },
      "execution_count": null,
      "outputs": [
        {
          "output_type": "stream",
          "name": "stdout",
          "text": [
            "--------------------------------------------\n",
            "ARTIGOS\n",
            "--------------------------------------------\n",
            "Artigos encontrados: A\n",
            "Artigos encontrados: a\n",
            "Artigos encontrados: uma\n",
            "Artigos encontrados: o\n",
            "Artigos encontrados: a\n",
            "Artigos encontrados: a\n",
            "--------------------------------------------\n",
            "PREPOSIÇÕES\n",
            "--------------------------------------------\n",
            "Preposições encontradas: da \n",
            "Preposições encontradas: na \n",
            "Preposições encontradas: na \n",
            "Preposições encontradas: de \n",
            "Preposições encontradas: Por \n",
            "Preposições encontradas: da \n",
            "Preposições encontradas: desde \n",
            "Preposições encontradas: de \n",
            "Preposições encontradas: nesse \n",
            "--------------------------------------------\n",
            "PRONOMES\n",
            "--------------------------------------------\n",
            "Pronomes encontrados: ela\n",
            "Pronomes encontrados: isso\n"
          ]
        }
      ]
    },
    {
      "cell_type": "code",
      "source": [],
      "metadata": {
        "id": "6VBXLZAQw10h"
      },
      "execution_count": null,
      "outputs": []
    }
  ]
}